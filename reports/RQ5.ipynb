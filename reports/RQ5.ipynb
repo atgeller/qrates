{
 "cells": [
  {
   "cell_type": "markdown",
   "metadata": {},
   "source": [
    "# RQ 5 (Motivation)\n",
    "\n",
    "> What are the most prevalent use cases for unsafe code?\n",
    "\n",
    "## Use Case 5: Foreign Functions\n",
    "\n",
    "### Query 12\n",
    "\n",
    "> we count *how many types are equipped with #[repr(C)]*.\n",
    "\n",
    "### Query 13\n",
    "\n",
    "> We thus classify *all -sys crates* as belonging to this use case.\n",
    "\n",
    "### Query 14\n",
    "\n",
    "> we determine *how many unsafe functions are declared with a foreign ABI*.\n",
    "\n",
    "### Query 15\n",
    "\n",
    "> we search for *usages of inline assembly* via the asm! macro.\n",
    "\n",
    "## Use Case 6: Performance\n",
    "\n",
    "### Query 16\n",
    "\n",
    "> we *search for unchecked functions* (those with \"unchecked\" in their name).\n",
    "\n",
    "### Query 17\n",
    "\n",
    "> we determine whether *unsafe blocks contain the special union type MaybeUninit*\n"
   ]
  },
  {
   "cell_type": "markdown",
   "metadata": {},
   "source": [
    "## Setup"
   ]
  },
  {
   "cell_type": "code",
   "execution_count": 1,
   "metadata": {},
   "outputs": [],
   "source": [
    "# import libraries\n",
    "import itertools\n",
    "import functools\n",
    "import numpy as np\n",
    "import pandas as pd\n",
    "import matplotlib.pyplot as plt\n",
    "from sklearn import tree\n",
    "\n",
    "import utils\n",
    "import top_crates\n",
    "from whitelists import *\n",
    "from drawing import *\n",
    "\n",
    "# Configure pyplot: enlarge plots \n",
    "plt.rcParams['figure.figsize'] = [15, 8]\n",
    "# Configure pandas: show all columns when printing a dataframe\n",
    "pd.set_option('display.max_columns', None)\n",
    "# Configure pandas: show more rows when printing a dataframe\n",
    "pd.set_option('display.min_rows', 20)"
   ]
  },
  {
   "cell_type": "code",
   "execution_count": 2,
   "metadata": {},
   "outputs": [],
   "source": [
    "# Load tables\n",
    "function_definitions = utils.load_selected_function_definitions()\n",
    "raw_function_unsafe_reasons = utils.load_unsafe_reasons_in_function_definitions()\n",
    "unsafe_block_calls = utils.load_unsafe_block_calls()\n",
    "const_calls = utils.load_const_calls()\n",
    "unsafe_blocks = utils.load_unsafe_blocks()\n",
    "traits = utils.load_selected_traits()\n",
    "traits_impls = utils.load_selected_impl_definitions()\n",
    "type_defs = utils.load_selected_type_defs()\n",
    "adts = utils.load_selected_adts()\n",
    "adt_field_types = utils.load_selected_adt_field_types()"
   ]
  },
  {
   "cell_type": "markdown",
   "metadata": {},
   "source": [
    "Note:\n",
    "* `function_definitions` contain the function definition from our selected list of crates.\n",
    "* `raw_function_unsafe_reasons` contain unsafety reasons for potentially **any** function.\n",
    "As a result, the set of functions mentioned in each relation are incomparable."
   ]
  },
  {
   "cell_type": "code",
   "execution_count": 3,
   "metadata": {},
   "outputs": [],
   "source": [
    "# Validation\n",
    "for crate in trusted_crate_names:\n",
    "   assert len(function_definitions[function_definitions.crate == crate]) > 0\n",
    "assert function_definitions[function_definitions.unsafety == \"Unknown\"].abi.unique() == [\"Closure\"]\n",
    "\n",
    "# Cleanup: remove duplicates\n",
    "raw_function_unsafe_reasons = raw_function_unsafe_reasons.drop_duplicates()\n",
    "\n",
    "# Remove functions that are not in function_definitions\n",
    "raw_function_unsafe_reasons = raw_function_unsafe_reasons[\n",
    "    raw_function_unsafe_reasons.def_path.isin(set(function_definitions.def_path.unique()))\n",
    "]\n",
    "assert len(raw_function_unsafe_reasons) > 10000\n",
    "\n",
    "possible_unsafe_reasons = [\n",
    "    \"call to unsafe function\",\n",
    "    \"use of inline assembly\",\n",
    "    \"initializing type with `rustc_layout_scalar_valid_range` attr\",\n",
    "    \"cast of pointer to int\",\n",
    "    \"pointer operation\",\n",
    "    \"borrow of packed field\",\n",
    "    \"use of mutable static\",\n",
    "    \"use of extern static\",\n",
    "    \"dereference of raw pointer\",\n",
    "    \"assignment to non-`Copy` union field\",\n",
    "    \"access to union field\",\n",
    "    \"mutation of layout constrained field\",\n",
    "    \"borrow of layout constrained field with interior mutability\",\n",
    "]\n",
    "\n",
    "# Validation\n",
    "assert not raw_function_unsafe_reasons.duplicated().any()\n",
    "assert set(raw_function_unsafe_reasons.unsafe_reason.unique()).issubset(possible_unsafe_reasons)\n",
    "assert function_definitions[function_definitions.unsafety == \"Unknown\"].abi.unique() == [\"Closure\"]"
   ]
  },
  {
   "cell_type": "code",
   "execution_count": 4,
   "metadata": {},
   "outputs": [],
   "source": [
    "# Augment const calls made from unsafe blocks\n",
    "unsafe_block_const_calls = unsafe_block_calls.join(\n",
    "    const_calls.set_index(\"call\"),\n",
    "    on=\"call\",\n",
    "    how=\"inner\",\n",
    "    rsuffix=\"_defsite\",\n",
    ")\n",
    "# Rename confusing columns\n",
    "unsafe_block_const_calls.rename(\n",
    "    columns={\"crate_name\": \"crate_callsite\", \"crate\": \"crate_defsite\"},\n",
    "    inplace=True\n",
    ")\n",
    "\n",
    "# Preprocessing\n",
    "unsafe_function_definitions = function_definitions[function_definitions.unsafety == \"Unsafe\"]\n",
    "\n",
    "# Validation\n",
    "assert len(unsafe_block_const_calls.query(\"crate_defsite == crate_callsite\")) > 0\n",
    "assert len(unsafe_block_const_calls.query(\"crate_defsite != crate_callsite\")) > 0"
   ]
  },
  {
   "cell_type": "code",
   "execution_count": 5,
   "metadata": {},
   "outputs": [],
   "source": [
    "# Whitelists\n",
    "all_function_names = set(function_definitions.def_path.unique())\n",
    "unchecked_function_names = get_unchecked_function_names(all_function_names)\n",
    "\n",
    "# Validation\n",
    "assert \"std\" in function_definitions.crate.unique()"
   ]
  },
  {
   "cell_type": "markdown",
   "metadata": {},
   "source": [
    "## Reasons for Unsafety in the Rust Compiler\n",
    "\n",
    "> we first identified a set of independent reasons why the compiler requires unsafe blocks\n",
    "and functions to be declared unsafe. We extracted these reasons from the source code of the Rust\n",
    "compiler [Rust Team 2020a]. "
   ]
  },
  {
   "cell_type": "code",
   "execution_count": 6,
   "metadata": {},
   "outputs": [
    {
     "name": "stdout",
     "output_type": "stream",
     "text": [
      "call to unsafe function                                          438044\n",
      "dereference of raw pointer                                        46328\n",
      "use of mutable static                                             25888\n",
      "access to union field                                              1426\n",
      "use of extern static                                                548\n",
      "use of inline assembly                                              493\n",
      "borrow of packed field                                              326\n",
      "initializing type with `rustc_layout_scalar_valid_range` attr        41\n",
      "assignment to non-`Copy` union field                                  3\n",
      "pointer operation                                                     2\n",
      "cast of pointer to int                                                1\n",
      "Name: unsafe_reason, dtype: int64\n"
     ]
    }
   ],
   "source": [
    "# Check frequency of values in the \"unsafety\" and \"visibility\" columns\n",
    "print(raw_function_unsafe_reasons.unsafe_reason.value_counts())"
   ]
  },
  {
   "cell_type": "code",
   "execution_count": 7,
   "metadata": {},
   "outputs": [],
   "source": [
    "function_unsafe_reasons = raw_function_unsafe_reasons[\n",
    "    [\"crate_name\", \"crate_hash\", \"def_path\", \"unsafe_reason\"]\n",
    "].groupby(\"def_path\").agg(frozenset).rename(\n",
    "    columns={'unsafe_reason': 'unsafe_reasons'}\n",
    ")\n",
    "\n",
    "function_unsafe_reasons[\"unsafe_reasons_vec\"] = function_unsafe_reasons.unsafe_reasons.map(\n",
    "    lambda x: [reason in x for reason in possible_unsafe_reasons]\n",
    ")\n",
    "function_unsafe_reasons[\"num_unsafe_reasons\"] = function_unsafe_reasons.unsafe_reasons_vec.map(sum)\n",
    "\n",
    "for reason in possible_unsafe_reasons:\n",
    "    function_unsafe_reasons[reason] = function_unsafe_reasons.unsafe_reasons.map(\n",
    "        lambda x: reason in x\n",
    "    )"
   ]
  },
  {
   "cell_type": "markdown",
   "metadata": {},
   "source": [
    "#### Results from the paper for comparison (Table 3)\n",
    "\n",
    "> Then, we collected which reasons apply to the implementation of\n",
    "each function (either the body of an unsafe function or the unsafe blocks inside a safe function).\n",
    "\n",
    "![Table 3](pics/reasons-why-unsafe.png)\n"
   ]
  },
  {
   "cell_type": "code",
   "execution_count": 8,
   "metadata": {},
   "outputs": [
    {
     "name": "stdout",
     "output_type": "stream",
     "text": [
      "call to unsafe function                                          437901\n",
      "dereference of raw pointer                                        46264\n",
      "use of mutable static                                             25888\n",
      "access to union field                                              1426\n",
      "use of extern static                                                548\n",
      "use of inline assembly                                              493\n",
      "borrow of packed field                                              326\n",
      "initializing type with `rustc_layout_scalar_valid_range` attr        41\n",
      "assignment to non-`Copy` union field                                  3\n",
      "pointer operation                                                     2\n",
      "cast of pointer to int                                                1\n",
      "borrow of layout constrained field with interior mutability           0\n",
      "mutation of layout constrained field                                  0\n",
      "dtype: int64\n",
      "call to unsafe function                                          90.488687\n",
      "dereference of raw pointer                                        9.560080\n",
      "use of mutable static                                             5.349545\n",
      "access to union field                                             0.294671\n",
      "use of extern static                                              0.113240\n",
      "use of inline assembly                                            0.101874\n",
      "borrow of packed field                                            0.067365\n",
      "initializing type with `rustc_layout_scalar_valid_range` attr     0.008472\n",
      "assignment to non-`Copy` union field                              0.000620\n",
      "pointer operation                                                 0.000413\n",
      "cast of pointer to int                                            0.000207\n",
      "borrow of layout constrained field with interior mutability       0.000000\n",
      "mutation of layout constrained field                              0.000000\n",
      "dtype: float64\n"
     ]
    },
    {
     "data": {
      "image/png": "[encoded data removed]",
      "text/plain": [
       "<Figure size 1080x576 with 1 Axes>"
      ]
     },
     "metadata": {
      "needs_background": "light"
     },
     "output_type": "display_data"
    }
   ],
   "source": [
    "# Frequency of each reason\n",
    "values = function_unsafe_reasons[possible_unsafe_reasons].apply(sum).sort_values(ascending=False)\n",
    "function_count = len(pd.unique(raw_function_unsafe_reasons['def_path']))\n",
    "print(values)\n",
    "print(values/function_count*100)\n",
    "values.plot.bar(\n",
    "    legend=False,\n",
    "    color=['b'],\n",
    "    logy=True,\n",
    ");\n",
    "del values"
   ]
  },
  {
   "cell_type": "markdown",
   "metadata": {},
   "source": [
    "#### Results from the paper for comparison\n",
    "\n",
    "> A block or function may be unsafe for multiple reasons. We found that for 84.6% of all functions that have at least one reason of unsafety, calling unsafe functions is the only reason of unsafety. In 94.0% of the functions, unsafety is due only to the first 2 entries of the table, and that in 99.4% of the functions, all reasons for unsafety are among the top 3 entries of the table.\n"
   ]
  },
  {
   "cell_type": "code",
   "execution_count": 9,
   "metadata": {},
   "outputs": [
    {
     "data": {
      "text/plain": [
       "1    455165\n",
       "2     28567\n",
       "3       194\n",
       "4         3\n",
       "Name: num_unsafe_reasons, dtype: int64"
      ]
     },
     "execution_count": 9,
     "metadata": {},
     "output_type": "execute_result"
    }
   ],
   "source": [
    "# Distribution of number of reasons\n",
    "function_unsafe_reasons.num_unsafe_reasons.value_counts()"
   ]
  },
  {
   "cell_type": "code",
   "execution_count": 10,
   "metadata": {},
   "outputs": [
    {
     "name": "stdout",
     "output_type": "stream",
     "text": [
      "(0.8464526821083258, ('call to unsafe function',))\n",
      "(0.9406772481087101, ('call to unsafe function', 'dereference of raw pointer'))\n",
      "(0.994152034699305, ('call to unsafe function', 'use of mutable static', 'dereference of raw pointer'))\n"
     ]
    }
   ],
   "source": [
    "# Find the features that cover as much situations as possible\n",
    "if False:\n",
    "    print(max([\n",
    "        (\n",
    "            sum(function_unsafe_reasons.unsafe_reasons.map(lambda x: x.issubset(reasons))) / len(function_unsafe_reasons),\n",
    "            reasons\n",
    "        )\n",
    "        for reasons in itertools.combinations(possible_unsafe_reasons, r=1)\n",
    "    ]))\n",
    "    print(max([\n",
    "        (\n",
    "            sum(function_unsafe_reasons.unsafe_reasons.map(lambda x: x.issubset(reasons))) / len(function_unsafe_reasons),\n",
    "            reasons\n",
    "        )\n",
    "        for reasons in itertools.combinations(possible_unsafe_reasons, r=2)\n",
    "    ]))\n",
    "\n",
    "    print(max([\n",
    "        (\n",
    "            sum(function_unsafe_reasons.unsafe_reasons.map(lambda x: x.issubset(reasons))) / len(function_unsafe_reasons),\n",
    "            reasons\n",
    "        )\n",
    "        for reasons in itertools.combinations(possible_unsafe_reasons, r=3)\n",
    "    ]))\n",
    "\n",
    "# Cached results\n",
    "print(\"(0.8464526821083258, ('call to unsafe function',))\")\n",
    "print(\"(0.9406772481087101, ('call to unsafe function', 'dereference of raw pointer'))\")\n",
    "print(\"(0.994152034699305, ('call to unsafe function', 'use of mutable static', 'dereference of raw pointer'))\")"
   ]
  },
  {
   "cell_type": "markdown",
   "metadata": {},
   "source": [
    "## Use Case 1: Data structures with complex sharing\n",
    "\n",
    "### Query 7\n",
    "\n",
    "> collect *all functions that contain a dereference of a raw pointer*\n",
    "\n",
    "#### Results from the paper for comparison\n",
    "\n",
    "> Our database contains 7,385,689 function definitions, out of which only 46,264 (0.6%) dereference a raw pointer in their implementation."
   ]
  },
  {
   "cell_type": "code",
   "execution_count": 11,
   "metadata": {},
   "outputs": [
    {
     "name": "stdout",
     "output_type": "stream",
     "text": [
      "all_function_names: 7385689\n",
      "functions that deref. a raw pointer: 46264 0.6264005971548491\n"
     ]
    }
   ],
   "source": [
    "print(\"all_function_names:\", len(all_function_names))\n",
    "\n",
    "# Validation\n",
    "assert set(function_unsafe_reasons[function_unsafe_reasons[\"dereference of raw pointer\"]].index).issubset(all_function_names)\n",
    "\n",
    "print(\"functions that deref. a raw pointer:\",\n",
    "      sum(function_unsafe_reasons[\"dereference of raw pointer\"]),\n",
    "      100 * sum(function_unsafe_reasons[\"dereference of raw pointer\"]) / len(all_function_names))"
   ]
  },
  {
   "cell_type": "markdown",
   "metadata": {},
   "source": [
    "#### Results from the paper for comparison\n",
    "\n",
    "> In particular, this is done in 9,273 out of a total of 557,380 unsafe functions (1.7%), in 35,761 out of 6,221,052 safe functions (0.6%), and in 1,230 of 607,257 closure declarations (0.2%)."
   ]
  },
  {
   "cell_type": "code",
   "execution_count": 12,
   "metadata": {},
   "outputs": [
    {
     "name": "stdout",
     "output_type": "stream",
     "text": [
      "all_unsafe_function_names: 557380\n",
      "all_safe_function_names: 6221052\n",
      "all_closure_names: 607257\n",
      "unsafe functions that deref. a raw pointer: 9273 1.6636764864186013\n",
      "safe functions that deref. a raw pointer: 35761 0.5748384678347006\n",
      "closures that deref. a raw pointer: 1230 0.20255015586481506\n"
     ]
    }
   ],
   "source": [
    "all_unsafe_function_names = set(unsafe_function_definitions.def_path.unique())\n",
    "all_safe_function_names = set(function_definitions[function_definitions.unsafety == \"Normal\"].def_path.unique())\n",
    "all_closure_names = set(function_definitions[function_definitions.unsafety == \"Unknown\"].def_path.unique())\n",
    "assert len(all_unsafe_function_names) > 0\n",
    "assert len(all_safe_function_names) > 0\n",
    "assert len(all_closure_names) > 0\n",
    "\n",
    "print(\"all_unsafe_function_names:\", len(all_unsafe_function_names))\n",
    "print(\"all_safe_function_names:\", len(all_safe_function_names))\n",
    "print(\"all_closure_names:\", len(all_closure_names))\n",
    "\n",
    "count1 = sum(function_unsafe_reasons[\n",
    "    function_unsafe_reasons.index.isin(all_unsafe_function_names)\n",
    "][\"dereference of raw pointer\"])\n",
    "print(\"unsafe functions that deref. a raw pointer:\", count1, 100 * count1 / len(all_unsafe_function_names))\n",
    "\n",
    "count2 = sum(function_unsafe_reasons[\n",
    "    function_unsafe_reasons.index.isin(all_safe_function_names)\n",
    "][\"dereference of raw pointer\"])\n",
    "print(\"safe functions that deref. a raw pointer:\", count2, 100 * count2 / len(all_safe_function_names))\n",
    "\n",
    "count3 = sum(function_unsafe_reasons[\n",
    "    function_unsafe_reasons.index.isin(all_closure_names)\n",
    "][\"dereference of raw pointer\"])\n",
    "print(\"closures that deref. a raw pointer:\", count3, 100 * count3 / len(all_closure_names))\n",
    "\n",
    "assert count1 + count2 + count3 == sum(function_unsafe_reasons[\"dereference of raw pointer\"])\n",
    "\n",
    "del count1, count2, count3"
   ]
  },
  {
   "cell_type": "markdown",
   "metadata": {},
   "source": [
    "> Overall, 7.0% of all crates have unsafe code that dereferences at least one raw pointer. Regarding the raw\n",
    "pointer fields, we found that 6.6% of all crates have types with raw pointer fields. After filtering out\n",
    "raw pointers in structs whose attributes indicate that they are likely intended for interoperability,\n",
    "this number reduces to 4.6% of all crates."
   ]
  },
  {
   "cell_type": "code",
   "execution_count": 13,
   "metadata": {},
   "outputs": [],
   "source": [
    "selected_builds = utils.load_selected_builds()\n",
    "non_tree_adts = utils.load_non_tree_adts()"
   ]
  },
  {
   "cell_type": "code",
   "execution_count": 14,
   "metadata": {},
   "outputs": [
    {
     "name": "stdout",
     "output_type": "stream",
     "text": [
      "Crates dereferencing raw pointers:  7.026077133084382\n"
     ]
    }
   ],
   "source": [
    "dereference_crate_count = len(function_unsafe_reasons[\n",
    "    function_unsafe_reasons[\"dereference of raw pointer\"]].crate_hash.unique())\n",
    "print('Crates dereferencing raw pointers: ',\n",
    "      100 * dereference_crate_count/len(selected_builds))"
   ]
  },
  {
   "cell_type": "code",
   "execution_count": 15,
   "metadata": {},
   "outputs": [
    {
     "name": "stdout",
     "output_type": "stream",
     "text": [
      "builds with data structures having raw pointer fields (all): 2087\n",
      "proportion: 6.55\n",
      "builds with data structures having raw pointer fields (excluding repr(C)): 1470\n",
      "proportion: 4.61\n"
     ]
    }
   ],
   "source": [
    "non_tree_builds = len(pd.unique(non_tree_adts['build']))\n",
    "non_c_non_tree_adts = non_tree_adts.query('not c_repr')\n",
    "non_c_non_tree_builds = len(pd.unique(non_c_non_tree_adts['build']))\n",
    "print('builds with data structures having raw pointer fields (all):', non_tree_builds)\n",
    "print('proportion: {:.2f}'.format(100 * non_tree_builds/len(selected_builds)))\n",
    "print('builds with data structures having raw pointer fields (excluding repr(C)):', non_c_non_tree_builds)\n",
    "print('proportion: {:.2f}'.format(100 * non_c_non_tree_builds/len(selected_builds)))"
   ]
  },
  {
   "cell_type": "markdown",
   "metadata": {},
   "source": [
    "## Use Case 2: Incompleteness Issues\n",
    "\n",
    "### Query 8\n",
    "\n",
    "> collect *all calls of unsafe functions involving explicit type casts*\n"
   ]
  },
  {
   "cell_type": "code",
   "execution_count": 16,
   "metadata": {},
   "outputs": [
    {
     "name": "stdout",
     "output_type": "stream",
     "text": [
      "unsafe_blocks: 674999\n",
      "total crates: 31867\n"
     ]
    }
   ],
   "source": [
    "print(\"unsafe_blocks:\", len(unsafe_blocks))\n",
    "print(\"total crates:\", len(selected_builds.crate_hash.unique()))\n",
    "assert len(selected_builds) == len(selected_builds.crate_hash.unique())"
   ]
  },
  {
   "cell_type": "markdown",
   "metadata": {},
   "source": [
    "#### Results from the paper for comparison\n",
    "\n",
    "> We found that 28,469 out of 674,999 unsafe blocks (4.2%) call a transmute function, and that 4.5% of all crates contain at least one call to a transmute function. Interestingly, only 1.7% of all crates have more than 3 unsafe blocks with a call to those functions.\n"
   ]
  },
  {
   "cell_type": "code",
   "execution_count": 17,
   "metadata": {
    "scrolled": false
   },
   "outputs": [
    {
     "name": "stdout",
     "output_type": "stream",
     "text": [
      "blocks 28469 674999 4.217635877979078\n",
      "\n",
      "crates 1421 4.4591583770044245\n",
      "imgui_ext                       3636\n",
      "esp_idf_sys                     3045\n",
      "gtk                             1176\n",
      "gdnative_bindings               1170\n",
      "rbspy_ruby_structs              1152\n",
      "packed_simd                     1121\n",
      "raw_serde                        781\n",
      "rute                             676\n",
      "bobbin_bits                      649\n",
      "webkit2gtk_webextension          578\n",
      "                                ... \n",
      "lru2                               1\n",
      "stb_truetype_bugfix_19072017       1\n",
      "astral_util                        1\n",
      "rbpf                               1\n",
      "next_gen                           1\n",
      "digest_hash                        1\n",
      "argon2                             1\n",
      "aurelius                           1\n",
      "yaks                               1\n",
      "ebpf                               1\n",
      "Name: crate_callsite, Length: 1398, dtype: int64\n",
      "536 1.6819907741550821\n",
      "\n",
      "With 1000+ unsafe blocks:\n",
      "* 3636 imgui_ext: https://crates.io/crates/imgui_ext\n",
      "* 3045 esp_idf_sys: https://crates.io/crates/esp_idf_sys\n",
      "* 1176 gtk: https://crates.io/crates/gtk\n",
      "* 1170 gdnative_bindings: https://crates.io/crates/gdnative_bindings\n",
      "* 1152 rbspy_ruby_structs: https://crates.io/crates/rbspy_ruby_structs\n",
      "* 1121 packed_simd: https://crates.io/crates/packed_simd\n"
     ]
    }
   ],
   "source": [
    "# Find the unsafe blocks (and crates) that statically call transmute or transmute_copy\n",
    "blocks = unsafe_block_const_calls[\n",
    "    unsafe_block_const_calls.def_path.isin(set([\n",
    "        'core[e667]::intrinsics[0]::[1]::transmute[0]',\n",
    "        'core[e667]::mem[0]::transmute_copy[0]',\n",
    "    ]))\n",
    "][\n",
    "    [\"crate_callsite\", \"build_crate_hash\", \"unsafe_scope\"]\n",
    "].drop_duplicates()\n",
    "print(\"blocks\", len(blocks), len(unsafe_blocks), 100 * len(blocks) / len(unsafe_blocks))\n",
    "print()\n",
    "print(\"crates\", len(blocks.build_crate_hash.unique()),\n",
    "      100 * len(blocks.build_crate_hash.unique()) / len(selected_builds.crate_hash.unique()))\n",
    "data = pd.value_counts(blocks.crate_callsite)\n",
    "print(data)\n",
    "print(sum(data > 3), 100 * sum(data > 3) / len(selected_builds.crate_hash.unique()))\n",
    "print()\n",
    "print(\"With 1000+ unsafe blocks:\")\n",
    "for crate, count in data[data >= 1000].iteritems():\n",
    "    print(\"* {} {}: https://crates.io/crates/{}\".format(count, crate, crate))\n",
    "del blocks, data"
   ]
  },
  {
   "cell_type": "markdown",
   "metadata": {},
   "source": [
    "#### Manual analysis of the crates that call transmute from 1000+ unsafe blocks\n",
    "* 3636 `imgui_ext`: The `imgui_drag_scalar` and `imgui_drag_matrix` macros defined in `imgui-ext/src/macros.rs` are recursive and call `transmute` multiple times each time. Each call to `imgui_drag_matrix`, in particular, results in a cubic number of instantiations: proportional to the length of its first parameter, to the value of the second and to the value of the third parameter.\n",
    "* 3045 `esp_idf_sys`: The `esp-idf-sys/src/bindings.rs` file is automatically generated and contains 3000+ calls to `transmute`.\n",
    "* 1176 `gtk`: The files under `gtk/src/auto/` are automatically generated. Each of 150+ of those files contains from a few to 100 calls to `transmute`.\n",
    "* 1170 `gdnative_bindings`: As the name and description of the crate say, all the code in the crate is automatically generated.\n",
    "* 1152 `rbspy_ruby_structs`: For each of 38 different versions of Ruby there is a file in `src/` responsible for from 8 to 87 calls to `transmute`. These files provide bindings for various internal Ruby structions for version `1.9.3` to `2.5.0`.\n",
    "* 1121 `packed_simd`: This crate offers functions to work with SIMD vector types. Many of its macros use `transmute`, for example the `impl_unary` macro that is called 343 times."
   ]
  },
  {
   "cell_type": "markdown",
   "metadata": {},
   "source": [
    "## Use Case 3: Emphasize Contracts and Invariants\n",
    "\n",
    "### Query 9\n",
    "\n",
    "> we *search for unsafe functions whose body contains only safe Rust code*\n",
    "\n",
    "#### Results from the paper for comparison\n",
    "\n",
    "> Regarding unsafe functions, our experiments yield that 36% of all unsafe functions are written\n",
    "in completely safe Rust.\n"
   ]
  },
  {
   "cell_type": "code",
   "execution_count": 18,
   "metadata": {},
   "outputs": [
    {
     "name": "stdout",
     "output_type": "stream",
     "text": [
      "36.1% of the unsafe functions don't actually need to be unsafe\n"
     ]
    },
    {
     "data": {
      "text/plain": [
       "300563"
      ]
     },
     "execution_count": 18,
     "metadata": {},
     "output_type": "execute_result"
    },
    {
     "data": {
      "image/png": "[encoded data removed]",
      "text/plain": [
       "<Figure size 1080x576 with 1 Axes>"
      ]
     },
     "metadata": {},
     "output_type": "display_data"
    }
   ],
   "source": [
    "# Method 1\n",
    "unsafe_rust_functions = unsafe_function_definitions[\n",
    "    unsafe_function_definitions.abi == \"Rust\"\n",
    "]\n",
    "values = unsafe_rust_functions.uses_unsafe.value_counts()\n",
    "values.plot.pie()\n",
    "print(\"{:.1%} of the unsafe functions don't actually need to be unsafe\".format(\n",
    "    sum(~unsafe_rust_functions.uses_unsafe) / len(unsafe_rust_functions)\n",
    "))\n",
    "len(unsafe_rust_functions)"
   ]
  },
  {
   "cell_type": "markdown",
   "metadata": {},
   "source": [
    "> To find explanations for the surprisingly high number of unsafe functions with safe implementations, we performed manual inspections: We manually inspected the ten crates with the highest\n",
    "overall count of unsafe functions with completely safe bodies. All of these crates are automatically\n",
    "generated to provide peripheral access to various microcontrollers."
   ]
  },
  {
   "cell_type": "code",
   "execution_count": 19,
   "metadata": {},
   "outputs": [
    {
     "name": "stdout",
     "output_type": "stream",
     "text": [
      "Examples of unsafe functions that don't need to be unsafe:\n",
      "* atsams70q19b[d4e3]::pwm0[0]::pwm_ier1[0]::{{impl}}[9]::bits[0]\n",
      "* cc13x2_cc26x2_hal[3ef7]::aux_tdc[0]::precntr[0]::{{impl}}[3]::bits[0]\n",
      "* id3[59df]::stream[0]::frame[0]::v4[0]::{{impl}}[14]::from_bits_unchecked[0]\n",
      "* s32k144[5167]::dma[0]::tcd3_csr[0]::{{impl}}[24]::bits[0]\n",
      "* imxrt1062_romc[5acf]::rompatchenl[0]::{{impl}}[3]::bits[0]\n",
      "* cc13x2_cc26x2_pac[78a3]::gpt3[0]::taps[0]::{{impl}}[6]::bits[0]\n",
      "* nrf52[d174]::twi0[0]::pselscl[0]::{{impl}}[3]::bits[0]\n",
      "* atsams70j20b[be49]::rtc[0]::rtc_timalr[0]::{{impl}}[1]::bits[0]\n",
      "* atsams70q19b[d4e3]::tc0[0]::tc_wpmr[0]::{{impl}}[7]::bits[0]\n",
      "* voodoo[b777]::structs[0]::{{impl}}[200]::next[0]\n"
     ]
    }
   ],
   "source": [
    "# Show examples of unsafe functions that don't need to be unsafe\n",
    "impostor_unsafe_function_definitions = unsafe_rust_functions[\n",
    "    ~unsafe_rust_functions.uses_unsafe\n",
    "    & (unsafe_rust_functions.visibility == \"Public\")\n",
    "]\n",
    "\n",
    "print(\"Examples of unsafe functions that don't need to be unsafe:\")\n",
    "for f in impostor_unsafe_function_definitions.def_path.sample(10):\n",
    "    print(\"*\", f)"
   ]
  },
  {
   "cell_type": "code",
   "execution_count": 20,
   "metadata": {},
   "outputs": [
    {
     "name": "stdout",
     "output_type": "stream",
     "text": [
      "Crates that do this a lot:\n",
      "* imxrt1062_can3 4658\n",
      "* cc13x2_cc26x2_pac 4266\n",
      "* cc13x2_cc26x2_hal 4266\n",
      "* oxcc_stm32f767 3148\n",
      "* s32k144 2721\n",
      "* stm32f469xx 2643\n",
      "* stm32f429 2452\n",
      "* esp32 2381\n",
      "* k64 2092\n",
      "* stm32l4x6 2017\n"
     ]
    }
   ],
   "source": [
    "print(\"Crates that do this a lot:\")\n",
    "# Show the crates that do this a lot\n",
    "impostor_unsafe_counts = []\n",
    "for _, (name, count) in zip(range(10), impostor_unsafe_function_definitions.crate.value_counts().iteritems()):\n",
    "    print(\"*\", name, count)\n",
    "    impostor_unsafe_counts.append(count)\n",
    "#impostor_unsafe_function_definitions\n",
    "# Check that we did not merge any crates (the numbers should match identically):\n",
    "for expected_count, (_, count) in zip(impostor_unsafe_counts, impostor_unsafe_function_definitions.crate_hash.value_counts().iteritems()):\n",
    "    assert expected_count == count"
   ]
  },
  {
   "cell_type": "markdown",
   "metadata": {},
   "source": [
    "Examples of unsafe functions that don't need to be so:\n",
    "* The documentation of the setter function [`bits` from crate `nrf52840_pac`](https://docs.rs/nrf52840-pac/0.9.0/src/nrf52840_pac/aar/addrptr.rs.html#22-25) does not explain why the function is unsafe, but from the context it seems that the function should not be used to set *invalid* bit values. This unsafe function is generated by the `svd2rust` crate (see the logic that decides the unsafety is [here](https://github.com/rust-embedded/svd2rust/blob/f7576a9bc1284a72b955cc2d6a6ae0553aa0855f/src/generate/register.rs#L644-L662)), and the meaning of `unsafe` is discussions in its [issues](https://github.com/rust-embedded/svd2rust/issues/41#issuecomment-268410367). When programming for embedded devices some registers or memory locations are only allowed to contain *valid* bit patterns. So, some libraries use `unsafe` to mark that a function like `bits` might be used to write an invalid pattern.\n",
    "* The documentation of [`to_physics_body_2d` from crate `gdnative-physics`](https://docs.rs/gdnative-physics/0.6.1/src/gdnative_physics/opt/rustwide/target/debug/build/gdnative-physics-7f46e0c8763ed1e0/out/physics_types.rs.html#15660-15663) does not give a clear explanation of why the function is unsafe, but from the documentation of the surrounding code it sounds plausible that the user has to manually deallocate the objects returned by the function.\n",
    "* The documentation of [`unchecked_index` of the `unchecked_index` crate](https://docs.rs/unchecked-index/0.2.2/src/unchecked_index/lib.rs.html#71-74) explains that the user should be careful when the returned object, because if used incorrectly it would allow to access out-of-bounds elements from safe code.\n",
    "* The documentation of [`from_raw_create_ptr` from crate `ocl_core`](https://docs.rs/ocl-core/0.11.2/src/ocl_core/types/abs.rs.html#465-468) explains that the user should call the function only in a particular way.\n",
    "* [`get_memory_win32_handle_nv` from crate `vodoo`](https://docs.rs/voodoo/0.3.1/src/voodoo/device.rs.html#2453-2455) is unsafe but its body only contains an `unimplemented!()` statement.\n"
   ]
  },
  {
   "cell_type": "markdown",
   "metadata": {},
   "source": [
    "### Query 10\n",
    "\n",
    "> we *count the number of both safe and unsafe traits declared*\n",
    "\n",
    "#### Results from the paper for comparison\n",
    "\n",
    "> We found 1,093 unsafe trait declarations, which amounts to only 2.5% of all trait declarations.\n",
    "\n",
    "> Notably, we observed that a few developers embraced unsafe traits enthusiastically: Five crates\n",
    "are responsible for 40.4% of all unsafe trait declarations.\n"
   ]
  },
  {
   "cell_type": "code",
   "execution_count": 21,
   "metadata": {},
   "outputs": [
    {
     "name": "stdout",
     "output_type": "stream",
     "text": [
      "number of unsafe traits: 1093\n",
      "number of traits: 43723\n",
      "percentage: 2.4998284655673215\n",
      "5 crates with most unsafe traits contain: 40.4391582799634 %\n"
     ]
    }
   ],
   "source": [
    "unsafe_traits = traits.query(\"unsafety != 'Normal'\")\n",
    "unsafe_traits_per_build = unsafe_traits.build.value_counts()\n",
    "#unsafe_traits_per_crate = unsafe_traits.crate.value_counts()  # This has a name collision, but is more readable.\n",
    "#unsafe_traits_per_crate.plot.pie()\n",
    "unsafe_traits_count = len(unsafe_traits)\n",
    "all_traits_count = len(traits)\n",
    "print(\"number of unsafe traits:\", unsafe_traits_count)\n",
    "print(\"number of traits:\", all_traits_count)\n",
    "print(\"percentage:\", 100 * unsafe_traits_count / all_traits_count)\n",
    "print(\"5 crates with most unsafe traits contain:\", 100 * sum(unsafe_traits_per_build[:5])/unsafe_traits_count, '%')"
   ]
  },
  {
   "cell_type": "markdown",
   "metadata": {},
   "source": [
    "## Use Case 4: Concurrency through Compiler Intrinsics\n",
    "\n",
    "### Query 11\n",
    "\n",
    "> we create a whitelist of unsafe functions wrapping concurrency intrinsics. We then run a\n",
    "query *collecting all unsafe blocks that call a whitelisted function*.\n",
    "\n",
    "#### Results from the paper for comparison\n",
    "\n",
    "> we collected all unsafe blocks that call one of the 89 compiler concurrency intrinsics defined in the core::intrinsics module, or their re-export from std::intrinsics.\n",
    "These functions are used by only 4 crates: core (8 calls), compiler_builtins (7 calls), rs_lockfree (6\n",
    "calls), and hsa (1 call). We thus conclude that compiler intrinsics are not widely used, probably\n",
    "because they are still marked as experimental and require a nightly version of the compiler.\n"
   ]
  },
  {
   "cell_type": "code",
   "execution_count": 22,
   "metadata": {},
   "outputs": [
    {
     "name": "stdout",
     "output_type": "stream",
     "text": [
      "concurrency_intrinsics: 13\n",
      "core                 8\n",
      "compiler_builtins    7\n",
      "rs_lockfree          6\n",
      "hsa                  1\n",
      "Name: package_name, dtype: int64\n"
     ]
    },
    {
     "data": {
      "image/png": "[encoded data removed]",
      "text/plain": [
       "<Figure size 1080x576 with 1 Axes>"
      ]
     },
     "metadata": {
      "needs_background": "light"
     },
     "output_type": "display_data"
    }
   ],
   "source": [
    "concurrency_intrinsics = set([\n",
    "    x\n",
    "    for x in unsafe_block_const_calls.def_path.unique()\n",
    "    if \"core[e667]::intrinsics\" in x and \"atomic\" in x\n",
    "])\n",
    "concurrency_intrinsics2 = set([\n",
    "    x\n",
    "    for x in unsafe_block_const_calls.summary_key.unique()\n",
    "    if x.startswith(\"core.intrinsics.\") and \"atomic\" in x\n",
    "])\n",
    "assert len(concurrency_intrinsics2) == len(concurrency_intrinsics)\n",
    "concurrency_intrinsics_std = set([\n",
    "    x\n",
    "    for x in unsafe_block_const_calls.summary_key.unique()\n",
    "    if x.startswith(\"std.intrinsics.\") and \"atomic\" in x\n",
    "])\n",
    "assert len(concurrency_intrinsics_std) == 0, \"We expect all intrinsics in std to be reexports.\"\n",
    "print(\"concurrency_intrinsics:\", len(concurrency_intrinsics))\n",
    "\n",
    "values = unsafe_block_const_calls[\n",
    "    unsafe_block_const_calls.def_path.isin(concurrency_intrinsics)\n",
    "].package_name.value_counts()\n",
    "values.plot.bar()\n",
    "print(values)\n",
    "del values"
   ]
  },
  {
   "cell_type": "markdown",
   "metadata": {},
   "source": [
    "## Use Case 5: Foreign Functions\n",
    "\n",
    "### Query 12\n",
    "\n",
    "> we count *how many types are equipped with #[repr(C)]*.\n",
    "\n",
    "#### Results from the paper for comparison\n",
    "\n",
    "> Out of 1,486,978 definitions of structures and enumerations, we found that only 3.9% are\n",
    "annotated with `#[repr(C)]`. This annotation is used in 6.2% of all crates.\n"
   ]
  },
  {
   "cell_type": "code",
   "execution_count": 23,
   "metadata": {},
   "outputs": [
    {
     "name": "stdout",
     "output_type": "stream",
     "text": [
      "all defs: 1486978\n",
      "False    1428884\n",
      "True       58094\n",
      "Name: c_repr, dtype: int64\n",
      "False    96.09315\n",
      "True      3.90685\n",
      "Name: c_repr, dtype: float64\n"
     ]
    },
    {
     "data": {
      "image/png": "[encoded data removed]",
      "text/plain": [
       "<Figure size 1080x576 with 1 Axes>"
      ]
     },
     "metadata": {},
     "output_type": "display_data"
    }
   ],
   "source": [
    "values = adts.c_repr.value_counts()\n",
    "print(\"all defs:\", len(adts))\n",
    "print(values)\n",
    "print(values/len(adts)*100)\n",
    "values.plot.pie()\n",
    "del values"
   ]
  },
  {
   "cell_type": "code",
   "execution_count": 24,
   "metadata": {},
   "outputs": [
    {
     "name": "stdout",
     "output_type": "stream",
     "text": [
      "Number of crates with C-repr types: 1987\n",
      "Percentage: 6.235290425832366\n"
     ]
    }
   ],
   "source": [
    "values = adts[[\"c_repr\", \"crate_hash\"]].groupby(\"crate_hash\").agg(sum)\n",
    "print(\"Number of crates with C-repr types:\", len(values[values.c_repr > 0]))\n",
    "#print(values[values.c_repr > 0])\n",
    "print(\"Percentage:\", 100 * len(values[values.c_repr > 0]) / len(selected_builds))\n",
    "del values"
   ]
  },
  {
   "cell_type": "markdown",
   "metadata": {},
   "source": [
    "### Query 13\n",
    "\n",
    "> We thus classify *all -sys crates* as belonging to this use case.\n",
    "\n",
    "#### Results from the paper for comparison\n",
    "\n",
    "> We found 650 crates (2.0% of all crates) whose names end with -sys, but we also noticed that other crates\n",
    "use different naming conventions: for 24 crates the name ends with -ffi, for 13 with -bindings,\n",
    "and for 10 with -bindgen. These suffixes all clearly mark a crate that provides public bindings to\n",
    "C libraries, as -sys crates should do."
   ]
  },
  {
   "cell_type": "code",
   "execution_count": 25,
   "metadata": {
    "scrolled": false
   },
   "outputs": [
    {
     "name": "stdout",
     "output_type": "stream",
     "text": [
      "There are 650 crates with suffix _sys (2.0% of all crates)\n",
      "There are 24 crates with suffix _ffi (0.1% of all crates)\n",
      "There are 13 crates with suffix _bindings (0.0% of all crates)\n",
      "There are 10 crates with suffix _bindgen (0.0% of all crates)\n"
     ]
    }
   ],
   "source": [
    "def count_with_suffix(suffix):\n",
    "    count = len([\n",
    "        x\n",
    "        for x in selected_builds.crate\n",
    "        if x.lower().replace(\"-\", \"_\").endswith(suffix)\n",
    "    ])\n",
    "    print(\"There are {} crates with suffix {} ({:.1f}% of all crates)\".format(\n",
    "        count, suffix, 100*count/len(selected_builds)\n",
    "    ))\n",
    "count_with_suffix(\"_sys\")\n",
    "count_with_suffix(\"_ffi\")\n",
    "count_with_suffix(\"_bindings\")\n",
    "count_with_suffix(\"_bindgen\")"
   ]
  },
  {
   "cell_type": "markdown",
   "metadata": {},
   "source": [
    "### Query 14\n",
    "\n",
    "> we determine *how many unsafe functions are declared with a foreign ABI*.\n",
    "\n",
    "#### Results from the paper for comparison\n",
    "\n",
    "> We found that 248,522 (44.6%) outof 557,380 unsafe function definitions are actually static bindings to foreign items."
   ]
  },
  {
   "cell_type": "code",
   "execution_count": 26,
   "metadata": {},
   "outputs": [
    {
     "name": "stdout",
     "output_type": "stream",
     "text": [
      "Rust           300563\n",
      "ForeignItem    248522\n",
      "C                8268\n",
      "system             23\n",
      "sysv64              2\n",
      "win64               1\n",
      "efiapi              1\n",
      "Name: abi, dtype: int64\n",
      "Rust           53.924253\n",
      "ForeignItem    44.587535\n",
      "C               1.483369\n",
      "system          0.004126\n",
      "sysv64          0.000359\n",
      "win64           0.000179\n",
      "efiapi          0.000179\n",
      "Name: abi, dtype: float64\n",
      "Unsafe function definitions: 557380\n"
     ]
    },
    {
     "data": {
      "image/png": "[encoded data removed]",
      "text/plain": [
       "<Figure size 1080x576 with 1 Axes>"
      ]
     },
     "metadata": {},
     "output_type": "display_data"
    }
   ],
   "source": [
    "# Frequency of abi\n",
    "values = unsafe_function_definitions.abi.value_counts()\n",
    "print(values)\n",
    "print(values / len(unsafe_function_definitions) * 100)\n",
    "print(\"Unsafe function definitions:\", len(unsafe_function_definitions))\n",
    "values.plot.pie()\n",
    "del values"
   ]
  },
  {
   "cell_type": "markdown",
   "metadata": {},
   "source": [
    "#### Results from the paper for comparison\n",
    "\n",
    "> Overall, 1,599 crates (5.0% of all crates) contain at least one function with a foreign ABI."
   ]
  },
  {
   "cell_type": "code",
   "execution_count": 27,
   "metadata": {},
   "outputs": [
    {
     "name": "stdout",
     "output_type": "stream",
     "text": [
      "Number of crates: 1599\n",
      "Percentage: 5.017729940063388\n",
      "\n"
     ]
    }
   ],
   "source": [
    "# Count non-Rust abi functions, per crate\n",
    "values = unsafe_function_definitions[unsafe_function_definitions.abi != \"Rust\"].build.value_counts()\n",
    "print(\"Number of crates:\", len(values))\n",
    "print(\"Percentage:\", 100*len(values)/len(selected_builds))\n",
    "print()\n",
    "# print(\"Such functions per crate:\")\n",
    "# print(values)\n",
    "del values"
   ]
  },
  {
   "cell_type": "markdown",
   "metadata": {},
   "source": [
    "### Query 15\n",
    "\n",
    "> we search for *usages of inline assembly* via the asm! macro.\n",
    "\n",
    "#### Results from the paper for comparison\n",
    "\n",
    "> Out of more than 7 million function definitions we only found 493 cases of functions that use assembly. In particular, we found that 10 low-level and hardware-related crates actually contain 69.8% of all the functions that make use of inline assembly."
   ]
  },
  {
   "cell_type": "code",
   "execution_count": 28,
   "metadata": {},
   "outputs": [
    {
     "name": "stdout",
     "output_type": "stream",
     "text": [
      "Number of functions using inline assembly: 493\n",
      "Number of crates: 56\n",
      "\n",
      "Percentage of functions with inline assembly among 10 top crates: 69.77687626774848\n",
      "Such functions per crate:\n",
      "((intel_tsx_hle), (f1fe356b4269d6a6))       96\n",
      "((x86), (af30b2093c683d5a))                 75\n",
      "((mips), (3c6797e99ba2e617))                44\n",
      "((x86_64), (7dcc58e18846a125))              35\n",
      "((libvmm), (4733af662f1cad48))              25\n",
      "((drone_cortex_m), (e4542867d6ea5dfb))      23\n",
      "((raw_syscall_base), (aa99fa700b6e9ac1))    14\n",
      "((core), (9e5d89f6bf45f768))                13\n",
      "((core_arch), (e774ed29d6f42e6e))           12\n",
      "((linux), (145ed0d096167561))                7\n",
      "dtype: int64\n"
     ]
    }
   ],
   "source": [
    "# Count functions with assembly code, per crate\n",
    "asm_fns = function_unsafe_reasons[function_unsafe_reasons[\"use of inline assembly\"]]\n",
    "print(\"Number of functions using inline assembly:\", len(asm_fns))\n",
    "assert len(asm_fns) > 100\n",
    "values = asm_fns[['crate_name', 'crate_hash']].apply(\n",
    "    lambda row: (row['crate_name'], row['crate_hash']), axis=1\n",
    ").squeeze().value_counts()\n",
    "print(\"Number of crates:\", len(values))\n",
    "print()\n",
    "print('Percentage of functions with inline assembly among 10 top crates:', sum(values[:10])/len(asm_fns)*100)\n",
    "print(\"Such functions per crate:\")\n",
    "print(values[:10])\n",
    "del values"
   ]
  },
  {
   "cell_type": "markdown",
   "metadata": {},
   "source": [
    "## Does a crate avoid runtime checks through unchecked functions? "
   ]
  },
  {
   "cell_type": "markdown",
   "metadata": {},
   "source": [
    "## Use Case 6: Performance\n",
    "\n",
    "### Query 16\n",
    "\n",
    "> we *search for unchecked functions* (those with \"unchecked\" in their name).\n",
    "\n",
    "#### Results from the paper for comparison\n",
    "\n",
    "> we found that 0.6% of all calls to unsafe functions involve unchecked functions spread across 5.7% of all crates.\n",
    "\n",
    "> For example, the Rust bindings of the X Window System call 4,852 unchecked functions in a single crate."
   ]
  },
  {
   "cell_type": "code",
   "execution_count": 29,
   "metadata": {},
   "outputs": [],
   "source": [
    "all_calls = utils.load_all_calls()"
   ]
  },
  {
   "cell_type": "code",
   "execution_count": 30,
   "metadata": {},
   "outputs": [],
   "source": [
    "unsafe_calls = all_calls.query(\"unsafety != 'Normal'\")\n",
    "assert len(pd.unique(unsafe_calls.unsafety)) == 1"
   ]
  },
  {
   "cell_type": "code",
   "execution_count": 31,
   "metadata": {},
   "outputs": [
    {
     "name": "stdout",
     "output_type": "stream",
     "text": [
      "unchecked_function_names: 7570\n",
      "Calls to unchecked functions: 31585\n",
      "Percentage: 0.6489489328452399\n",
      "Number of crates: 1801\n",
      "Percentage: 5.65161452286064\n",
      "(x11_keysymdef, 1077887af1a49fbc)    4852\n",
      "(http_box, c33bb5cc8ef0afa3)         1017\n",
      "(nalgebra, c385ef8b70792688)          815\n",
      "(qt_widgets, 1a3b2d4a7792803)         696\n",
      "(packed_simd, b423b7f8b21d99d7)       614\n",
      "dtype: int64\n",
      "Percentage of unsafe blocks with an unchecked function call: 4.1664199823633705\n"
     ]
    }
   ],
   "source": [
    "print(\"unchecked_function_names:\", len(unchecked_function_names))\n",
    "\n",
    "unchecked_calls = unsafe_block_const_calls[\n",
    "    unsafe_block_const_calls.def_path.isin(unchecked_function_names)\n",
    "]\n",
    "print(\"Calls to unchecked functions:\", len(unchecked_calls))\n",
    "print(\"Percentage:\", len(unchecked_calls)/len(unsafe_calls)*100)\n",
    "\n",
    "values = unchecked_calls[['crate_callsite', 'build_crate_hash']].apply(\n",
    "    lambda row: (row['crate_callsite'], row['build_crate_hash']), axis=1\n",
    ").squeeze().value_counts()\n",
    "print(\"Number of crates:\", len(values))\n",
    "print(\"Percentage:\", len(values)/len(selected_builds)*100)\n",
    "print(values[:5])\n",
    "\n",
    "# Used in Sec. 6.2\n",
    "print(\"Percentage of unsafe blocks with an unchecked function call:\",\n",
    "    len(unchecked_calls.unsafe_scope.unique())/len(unsafe_block_const_calls.unsafe_scope.unique())*100\n",
    ")\n",
    "del values"
   ]
  },
  {
   "cell_type": "markdown",
   "metadata": {},
   "source": [
    "### Query 17\n",
    "\n",
    "> we determine whether *unsafe blocks contain the special union type MaybeUninit*\n",
    "\n",
    "#### Results from the paper for comparison\n",
    "\n",
    "> Developers rarely use the union MaybeUninit, which allows declaring uninitialised variables:\n",
    "We detected it in only 1,816 unsafe blocks, which appear in 0.55% of all crates."
   ]
  },
  {
   "cell_type": "code",
   "execution_count": 32,
   "metadata": {},
   "outputs": [
    {
     "name": "stdout",
     "output_type": "stream",
     "text": [
      "Number of crates: 174\n",
      "Percentage: 0.5460193931025826\n",
      "Number of calls: 1816\n"
     ]
    }
   ],
   "source": [
    "assume_init_def_path = \"core[e667]::mem[0]::maybe_uninit[0]::{{impl}}[2]::assume_init[0]\"\n",
    "assume_init_summary_key = 'core.mem.maybe_uninit.implement_maybe_uninit.assume_init'\n",
    "\n",
    "values = unsafe_block_const_calls[\n",
    "    unsafe_block_const_calls.def_path == assume_init_def_path\n",
    "].package_name.value_counts()\n",
    "values_summary = unsafe_block_const_calls[\n",
    "    unsafe_block_const_calls.summary_key == assume_init_summary_key\n",
    "].package_name.value_counts()\n",
    "assert len(values) == len(values_summary)\n",
    "print(\"Number of crates:\", len(values))\n",
    "print(\"Percentage:\", len(values)/len(selected_builds)*100)\n",
    "# print(values)\n",
    "print(\"Number of calls:\", sum(values))\n",
    "del values\n",
    "del values_summary"
   ]
  }
 ],
 "metadata": {
  "kernelspec": {
   "display_name": "Python 3",
   "language": "python",
   "name": "python3"
  },
  "language_info": {
   "codemirror_mode": {
    "name": "ipython",
    "version": 3
   },
   "file_extension": ".py",
   "mimetype": "text/x-python",
   "name": "python",
   "nbconvert_exporter": "python",
   "pygments_lexer": "ipython3",
   "version": "3.7.6"
  }
 },
 "nbformat": 4,
 "nbformat_minor": 4
}
