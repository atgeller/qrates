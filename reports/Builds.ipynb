{
 "cells": [
  {
   "cell_type": "markdown",
   "metadata": {},
   "source": [
    "# Information about the current dataset\n",
    "\n",
    "This worksheet analyses some basic properties of the dataset we use.\n",
    "We highlight numbers referred to in the paper by quoting the corresponding sentences from Section 5.1, which explains our experimental setup.\n",
    "\n",
    "## Setup"
   ]
  },
  {
   "cell_type": "code",
   "execution_count": 1,
   "metadata": {},
   "outputs": [],
   "source": [
    "import pandas as pd\n",
    "import matplotlib.pyplot as plt\n",
    "import utils"
   ]
  },
  {
   "cell_type": "code",
   "execution_count": 2,
   "metadata": {},
   "outputs": [],
   "source": [
    "selected_builds = utils.load_selected_builds()"
   ]
  },
  {
   "cell_type": "markdown",
   "metadata": {},
   "source": [
    "## Number of Builds\n",
    "\n",
    "The number of crates we managed to successfully build:"
   ]
  },
  {
   "cell_type": "code",
   "execution_count": 3,
   "metadata": {},
   "outputs": [
    {
     "data": {
      "text/plain": [
       "31867"
      ]
     },
     "execution_count": 3,
     "metadata": {},
     "output_type": "execute_result"
    }
   ],
   "source": [
    "len(selected_builds)"
   ]
  },
  {
   "cell_type": "markdown",
   "metadata": {},
   "source": [
    "## Crate Names"
   ]
  },
  {
   "cell_type": "markdown",
   "metadata": {},
   "source": [
    "The most popular crate names are:"
   ]
  },
  {
   "cell_type": "code",
   "execution_count": 4,
   "metadata": {},
   "outputs": [
    {
     "data": {
      "text/plain": [
       "main         51\n",
       "example      20\n",
       "test         14\n",
       "demo         11\n",
       "secp256k1     8\n",
       "server        7\n",
       "ds            5\n",
       "lib           5\n",
       "client        5\n",
       "task          5\n",
       "Name: crate, dtype: int64"
      ]
     },
     "execution_count": 4,
     "metadata": {},
     "output_type": "execute_result"
    }
   ],
   "source": [
    "selected_builds.crate.value_counts()[:10]"
   ]
  },
  {
   "cell_type": "markdown",
   "metadata": {},
   "source": [
    "The crate names `build_script_<file>` indicate that the crate is a build script; `<file>` is the name of the actual build script without the `.rs` suffix. We have omited the build scripts from our analysis; that is why they are not shown in `selected_builds`.\n",
    "\n",
    "The crate names that often repeat such as `main`, `example`, `test`, and `demo` typically belong to binaries as can be seen from the following frequence table:"
   ]
  },
  {
   "cell_type": "code",
   "execution_count": 5,
   "metadata": {},
   "outputs": [
    {
     "data": {
      "text/plain": [
       "main              50\n",
       "example           18\n",
       "test              14\n",
       "demo              11\n",
       "server             6\n",
       "                  ..\n",
       "deneb              1\n",
       "aflak              1\n",
       "twoseventwoify     1\n",
       "http3              1\n",
       "rumi               1\n",
       "Name: crate, Length: 6109, dtype: int64"
      ]
     },
     "execution_count": 5,
     "metadata": {},
     "output_type": "execute_result"
    }
   ],
   "source": [
    "selected_builds.query(\"crate_types=='bin'\").crate.value_counts()"
   ]
  },
  {
   "cell_type": "markdown",
   "metadata": {},
   "source": [
    "## Crate Types\n",
    "\n",
    "We first check what crate types exist:"
   ]
  },
  {
   "cell_type": "code",
   "execution_count": 6,
   "metadata": {},
   "outputs": [
    {
     "data": {
      "text/plain": [
       "array(['rlib', 'bin', 'proc-macro', 'cdylib, rlib', 'cdylib',\n",
       "       'cdylib, rlib, staticlib', 'rlib, staticlib', 'staticlib', 'dylib',\n",
       "       '', 'dylib, rlib', 'dylib, rlib, staticlib', 'cdylib, staticlib',\n",
       "       'dylib, staticlib', 'cdylib, dylib, rlib, staticlib',\n",
       "       'cdylib, dylib, rlib'], dtype=object)"
      ]
     },
     "execution_count": 6,
     "metadata": {},
     "output_type": "execute_result"
    }
   ],
   "source": [
    "pd.unique(selected_builds.crate_types)"
   ]
  },
  {
   "cell_type": "markdown",
   "metadata": {},
   "source": [
    "Count how many crates of each type we have:"
   ]
  },
  {
   "cell_type": "code",
   "execution_count": 7,
   "metadata": {
    "scrolled": false
   },
   "outputs": [
    {
     "name": "stdout",
     "output_type": "stream",
     "text": [
      "{'rlib': 24124, 'bin': 6384, 'proc-macro': 1268, 'cdylib': 193, 'dylib': 102, 'staticlib': 77, '': 4}\n"
     ]
    }
   ],
   "source": [
    "import utils\n",
    "crate_type_counts = utils.count_builds_per_type(selected_builds)\n",
    "print(crate_type_counts)"
   ]
  },
  {
   "cell_type": "markdown",
   "metadata": {},
   "source": [
    "The three builds with missing type are Rust files [generated](https://gitlab.com/tspiteri/rug/-/blob/834cbefbce178a67bd97cc93ab1f88f262bd6126/build.rs#L27-29) by the `rug` package build.rs file to check what features are supported by the Rust compiler."
   ]
  },
  {
   "cell_type": "code",
   "execution_count": 8,
   "metadata": {},
   "outputs": [
    {
     "data": {
      "text/html": [
       "<div>\n",
       "<style scoped>\n",
       "    .dataframe tbody tr th:only-of-type {\n",
       "        vertical-align: middle;\n",
       "    }\n",
       "\n",
       "    .dataframe tbody tr th {\n",
       "        vertical-align: top;\n",
       "    }\n",
       "\n",
       "    .dataframe thead th {\n",
       "        text-align: right;\n",
       "    }\n",
       "</style>\n",
       "<table border=\"1\" class=\"dataframe\">\n",
       "  <thead>\n",
       "    <tr style=\"text-align: right;\">\n",
       "      <th></th>\n",
       "      <th>build</th>\n",
       "      <th>package</th>\n",
       "      <th>version</th>\n",
       "      <th>crate</th>\n",
       "      <th>crate_hash</th>\n",
       "      <th>edition</th>\n",
       "      <th>crate_types</th>\n",
       "    </tr>\n",
       "  </thead>\n",
       "  <tbody>\n",
       "    <tr>\n",
       "      <th>2008</th>\n",
       "      <td>6182</td>\n",
       "      <td>rug</td>\n",
       "      <td>1.6.0</td>\n",
       "      <td>try_ffi_panic_aborts_1</td>\n",
       "      <td>af3524fc775ce808</td>\n",
       "      <td>2015</td>\n",
       "      <td></td>\n",
       "    </tr>\n",
       "    <tr>\n",
       "      <th>2009</th>\n",
       "      <td>6183</td>\n",
       "      <td>rug</td>\n",
       "      <td>1.6.0</td>\n",
       "      <td>try_maybe_uninit</td>\n",
       "      <td>a507ed674afff2b5</td>\n",
       "      <td>2015</td>\n",
       "      <td></td>\n",
       "    </tr>\n",
       "    <tr>\n",
       "      <th>2010</th>\n",
       "      <td>6185</td>\n",
       "      <td>rug</td>\n",
       "      <td>1.6.0</td>\n",
       "      <td>try_try_from</td>\n",
       "      <td>b3fc6551122bb789</td>\n",
       "      <td>2015</td>\n",
       "      <td></td>\n",
       "    </tr>\n",
       "    <tr>\n",
       "      <th>31378</th>\n",
       "      <td>72673</td>\n",
       "      <td>gmp-mpfr-sys</td>\n",
       "      <td>1.1.14</td>\n",
       "      <td>try_maybe_uninit</td>\n",
       "      <td>c92d8e1a8b236d0a</td>\n",
       "      <td>2015</td>\n",
       "      <td></td>\n",
       "    </tr>\n",
       "  </tbody>\n",
       "</table>\n",
       "</div>"
      ],
      "text/plain": [
       "       build       package version                   crate        crate_hash  \\\n",
       "2008    6182           rug   1.6.0  try_ffi_panic_aborts_1  af3524fc775ce808   \n",
       "2009    6183           rug   1.6.0        try_maybe_uninit  a507ed674afff2b5   \n",
       "2010    6185           rug   1.6.0            try_try_from  b3fc6551122bb789   \n",
       "31378  72673  gmp-mpfr-sys  1.1.14        try_maybe_uninit  c92d8e1a8b236d0a   \n",
       "\n",
       "       edition crate_types  \n",
       "2008      2015              \n",
       "2009      2015              \n",
       "2010      2015              \n",
       "31378     2015              "
      ]
     },
     "execution_count": 8,
     "metadata": {},
     "output_type": "execute_result"
    }
   ],
   "source": [
    "selected_builds.query(\"crate_types == ''\")"
   ]
  },
  {
   "cell_type": "markdown",
   "metadata": {},
   "source": [
    "## Editions"
   ]
  },
  {
   "cell_type": "code",
   "execution_count": 9,
   "metadata": {},
   "outputs": [
    {
     "data": {
      "text/plain": [
       "2015    16216\n",
       "2018    15651\n",
       "Name: edition, dtype: int64"
      ]
     },
     "execution_count": 9,
     "metadata": {},
     "output_type": "execute_result"
    }
   ],
   "source": [
    "selected_builds.edition.value_counts()"
   ]
  },
  {
   "cell_type": "markdown",
   "metadata": {},
   "source": [
    "## `-sys` packages\n",
    "\n",
    "Check what portion of `-sys` crates have matching non`-sys` crates:"
   ]
  },
  {
   "cell_type": "code",
   "execution_count": 10,
   "metadata": {},
   "outputs": [
    {
     "name": "stdout",
     "output_type": "stream",
     "text": [
      "Percent of -sys crates that have matching non-sys crates: 46.12%\n"
     ]
    }
   ],
   "source": [
    "# Validation: check that for each `-sys` crate there is one without the suffix.\n",
    "def check_sys_crates():\n",
    "    packages = utils.load_original_crates_list()\n",
    "    assert len(packages[packages.isnull().any(axis=1)]) == 0\n",
    "    all_crate_names = set(packages['package'])\n",
    "    not_found = []\n",
    "    found = []\n",
    "    for crate_name in all_crate_names:\n",
    "        if crate_name.endswith('-sys'):\n",
    "            if crate_name[:-4] not in all_crate_names:\n",
    "                not_found.append(crate_name)\n",
    "            else:\n",
    "                found.append(crate_name)\n",
    "    print(\"Percent of -sys crates that have matching non-sys crates: {:.2f}%\".format(\n",
    "        100*len(found) / (len(found)+len(not_found))))\n",
    "check_sys_crates()"
   ]
  },
  {
   "cell_type": "code",
   "execution_count": 11,
   "metadata": {},
   "outputs": [
    {
     "name": "stdout",
     "output_type": "stream",
     "text": [
      "Percent of -sys crates that have relaxed-matching non-sys crates: 51.36%\n"
     ]
    }
   ],
   "source": [
    "# Validation: check that for each `-sys` crate there is one wit the same prefix.\n",
    "def check_sys_crates_relaxed():\n",
    "    packages = utils.load_original_crates_list()\n",
    "    assert len(packages[packages.isnull().any(axis=1)]) == 0\n",
    "    all_crate_names = set(packages['package'])\n",
    "    not_found = []\n",
    "    found = []\n",
    "    for crate_name in all_crate_names:\n",
    "        if crate_name.endswith('-sys'):\n",
    "            base_name = crate_name[:-4]\n",
    "            # Quadratic... well\n",
    "            if any(\n",
    "                map(\n",
    "                    lambda x: (\n",
    "                        x != crate_name\n",
    "                        and not x.endswith('-sys')\n",
    "                        and x.startswith(base_name)\n",
    "                    ),\n",
    "                    all_crate_names\n",
    "                )\n",
    "            ):\n",
    "                found.append(crate_name)\n",
    "            else:\n",
    "                not_found.append(crate_name)\n",
    "    print(\"Percent of -sys crates that have relaxed-matching non-sys crates: {:.2f}%\".format(\n",
    "        100*len(found) / (len(found)+len(not_found))))\n",
    "check_sys_crates_relaxed()"
   ]
  },
  {
   "cell_type": "markdown",
   "metadata": {},
   "source": [
    "# Basics about Packages\n",
    "\n",
    "> We evaluated our queries on a dataset that comprises the most-recent version (as of 2020-01-14) of all 34445 packages published on central Rust repository crates.io. The implementation of a package can be composed of multiple crates, one of which is usually primary and determines the name of the package.\n",
    "> We excluded 5459 packages (16%) whose most recent version did not successfully compile.\n",
    "> For packages with conditional compilation features, we used the default flags specified in the manifest.\n",
    "> In cases when a package failed to compile with the default flags, but succeeded with different ones (when compiled as a dependency of another package) we selected a random build for analysis.\n",
    "> As a result, our dataset consists of 31867 crates."
   ]
  },
  {
   "cell_type": "code",
   "execution_count": 12,
   "metadata": {},
   "outputs": [
    {
     "name": "stdout",
     "output_type": "stream",
     "text": [
      "Number of original packages: 34445\n",
      "Number of compiling packages: 28986 0.8415154594280737\n",
      "Number of non-compiling packages: 5459 0.15848454057192626\n",
      "Number of crates: 31867\n",
      "Number of unique crate names (don't use this number): 29563\n"
     ]
    }
   ],
   "source": [
    "print(\"Number of original packages:\", len(utils.load_original_crates_list()))\n",
    "print(\"Number of compiling packages:\", len(selected_builds.package.unique()),\n",
    "      len(selected_builds.package.unique()) / len(utils.load_original_crates_list()))\n",
    "print(\"Number of non-compiling packages:\",\n",
    "      len(utils.load_original_crates_list()) - len(selected_builds.package.unique()),\n",
    "     (len(utils.load_original_crates_list()) - len(selected_builds.package.unique())) / len(utils.load_original_crates_list()))\n",
    "print(\"Number of crates:\", len(selected_builds))\n",
    "print(\"Number of unique crate names (don't use this number):\", len(selected_builds.crate.unique()))"
   ]
  },
  {
   "cell_type": "markdown",
   "metadata": {},
   "source": [
    "> Most of these crates are compiled to Rust libraries, namely 76%, or binaries, namely 20%.\n",
    "The other crates are procedural macros (4%)."
   ]
  },
  {
   "cell_type": "code",
   "execution_count": 13,
   "metadata": {},
   "outputs": [
    {
     "name": "stdout",
     "output_type": "stream",
     "text": [
      "Crates\n",
      "rlib                              23892\n",
      "bin                                6384\n",
      "proc-macro                         1268\n",
      "cdylib, rlib                        117\n",
      "dylib, rlib                          51\n",
      "cdylib                               39\n",
      "dylib                                34\n",
      "cdylib, rlib, staticlib              29\n",
      "rlib, staticlib                      20\n",
      "dylib, rlib, staticlib               13\n",
      "cdylib, staticlib                     6\n",
      "staticlib                             6\n",
      "                                      4\n",
      "dylib, staticlib                      2\n",
      "cdylib, dylib, rlib, staticlib        1\n",
      "cdylib, dylib, rlib                   1\n",
      "Name: crate_types, dtype: int64\n",
      "\n",
      "Libs: 24211 0.7597514670348636\n",
      "Bin: 6384 0.20033263250384412\n",
      "proc-macro: 1268 0.03979037876172843\n",
      "Others: 4 0.0001255216995638121\n"
     ]
    }
   ],
   "source": [
    "print(\"Crates\")\n",
    "print(selected_builds.crate_types.value_counts())\n",
    "print()\n",
    "print(\"Libs:\",\n",
    "      sum(selected_builds.crate_types.str.contains(\"lib\")),\n",
    "      sum(selected_builds.crate_types.str.contains(\"lib\")) / len(selected_builds)\n",
    ")\n",
    "print(\"Bin:\",\n",
    "      sum(selected_builds.crate_types.str.contains(\"bin\")),\n",
    "      sum(selected_builds.crate_types.str.contains(\"bin\")) / len(selected_builds)\n",
    ")\n",
    "print(\"proc-macro:\",\n",
    "      sum(selected_builds.crate_types.str.contains(\"proc-macro\")),\n",
    "      sum(selected_builds.crate_types.str.contains(\"proc-macro\")) / len(selected_builds)\n",
    ")\n",
    "others = (\n",
    "    ~selected_builds.crate_types.str.contains(\"bin\")\n",
    "    & ~selected_builds.crate_types.str.contains(\"proc-macro\")\n",
    "    & ~selected_builds.crate_types.str.contains(\"lib\")\n",
    ")\n",
    "print(\"Others:\",\n",
    "      sum(others),\n",
    "      sum(others) / len(selected_builds)\n",
    ")"
   ]
  },
  {
   "cell_type": "markdown",
   "metadata": {},
   "source": [
    "## Search for specific crates"
   ]
  },
  {
   "cell_type": "code",
   "execution_count": 14,
   "metadata": {},
   "outputs": [
    {
     "name": "stdout",
     "output_type": "stream",
     "text": [
      "sys crates: 650\n",
      "sys crates (with manual): 696\n"
     ]
    }
   ],
   "source": [
    "from whitelists import *\n",
    "print(\"sys crates:\", len([\n",
    "    x\n",
    "    for x in selected_builds.crate\n",
    "    if x.lower().replace(\"-\", \"_\").endswith(\"_sys\")\n",
    "]))\n",
    "print(\"sys crates (with manual):\", len(get_sys_crate_names(selected_builds.crate.unique())))"
   ]
  },
  {
   "cell_type": "code",
   "execution_count": 15,
   "metadata": {},
   "outputs": [
    {
     "name": "stdout",
     "output_type": "stream",
     "text": [
      "hardware crates 10\n"
     ]
    }
   ],
   "source": [
    "print(\"hardware crates\", len(hardware_crate_names))"
   ]
  },
  {
   "cell_type": "code",
   "execution_count": 16,
   "metadata": {},
   "outputs": [
    {
     "name": "stdout",
     "output_type": "stream",
     "text": [
      "top_500_crates: 500\n",
      "top_500_packages compiling: 492\n",
      "top_500_crates compiling: 492\n",
      "Crates\n",
      "rlib                              23892\n",
      "bin                                6384\n",
      "proc-macro                         1268\n",
      "cdylib, rlib                        117\n",
      "dylib, rlib                          51\n",
      "cdylib                               39\n",
      "dylib                                34\n",
      "cdylib, rlib, staticlib              29\n",
      "rlib, staticlib                      20\n",
      "dylib, rlib, staticlib               13\n",
      "cdylib, staticlib                     6\n",
      "staticlib                             6\n",
      "                                      4\n",
      "dylib, staticlib                      2\n",
      "cdylib, dylib, rlib, staticlib        1\n",
      "cdylib, dylib, rlib                   1\n",
      "Name: crate_types, dtype: int64\n",
      "\n",
      "Libs: 467 0.014654658424075062\n",
      "Bin: 7 0.00021966297423667115\n",
      "proc-macro: 18 0.0005648476480371544\n",
      "Others: 0 0.0\n"
     ]
    }
   ],
   "source": [
    "from top_crates import *\n",
    "print(\"top_500_crates:\", len(set(top_500_crates)))\n",
    "\n",
    "def norm(x):\n",
    "    return x.lower().replace(\"-\", \"_\")\n",
    "\n",
    "top_500_compiling_crates = set(map(norm, top_500_crates)) & set(map(norm, selected_builds.package.unique()))\n",
    "top_500_crates_set = set(top_500_crates)\n",
    "top_500_mask = selected_builds.package.map(lambda x: x.replace(\"-\", \"_\") in top_500_crates_set)\n",
    "top_500_builds = selected_builds[top_500_mask][\n",
    "    ~selected_builds[top_500_mask][\"package\"].duplicated()\n",
    "]\n",
    "\n",
    "print(\"top_500_packages compiling:\", len(top_500_compiling_crates))\n",
    "\n",
    "print(\"top_500_crates compiling:\", len(top_500_builds))\n",
    "\n",
    "print(\"Crates\")\n",
    "print(selected_builds.crate_types.value_counts())\n",
    "print()\n",
    "print(\"Libs:\",\n",
    "      sum(top_500_builds.crate_types.str.contains(\"rlib\")),\n",
    "      sum(top_500_builds.crate_types.str.contains(\"rlib\")) / len(selected_builds)\n",
    ")\n",
    "print(\"Bin:\",\n",
    "      sum(top_500_builds.crate_types.str.contains(\"bin\")),\n",
    "      sum(top_500_builds.crate_types.str.contains(\"bin\")) / len(selected_builds)\n",
    ")\n",
    "print(\"proc-macro:\",\n",
    "      sum(top_500_builds.crate_types.str.contains(\"proc-macro\")),\n",
    "      sum(top_500_builds.crate_types.str.contains(\"proc-macro\")) / len(selected_builds)\n",
    ")\n",
    "others = (\n",
    "    ~top_500_builds.crate_types.str.contains(\"bin\")\n",
    "    & ~top_500_builds.crate_types.str.contains(\"proc-macro\")\n",
    "    & ~top_500_builds.crate_types.str.contains(\"rlib\")\n",
    ")\n",
    "print(\"Others:\",\n",
    "      sum(others),\n",
    "      sum(others) / len(top_500_builds)\n",
    ")"
   ]
  }
 ],
 "metadata": {
  "kernelspec": {
   "display_name": "Python 3",
   "language": "python",
   "name": "python3"
  },
  "language_info": {
   "codemirror_mode": {
    "name": "ipython",
    "version": 3
   },
   "file_extension": ".py",
   "mimetype": "text/x-python",
   "name": "python",
   "nbconvert_exporter": "python",
   "pygments_lexer": "ipython3",
   "version": "3.7.6"
  }
 },
 "nbformat": 4,
 "nbformat_minor": 2
}
